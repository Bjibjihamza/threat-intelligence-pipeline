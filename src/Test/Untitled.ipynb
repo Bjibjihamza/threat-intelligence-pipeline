{
 "cells": [
  {
   "cell_type": "code",
   "execution_count": 41,
   "id": "771e8f14-ef27-4213-ad40-455cc9ed6bc4",
   "metadata": {},
   "outputs": [
    {
     "name": "stdout",
     "output_type": "stream",
     "text": [
      "✓ DB connected\n"
     ]
    },
    {
     "name": "stderr",
     "output_type": "stream",
     "text": [
      "C:\\Users\\hamza\\AppData\\Local\\Temp\\ipykernel_41488\\2084743802.py:27: UserWarning: pandas only supports SQLAlchemy connectable (engine/connection) or database string URI or sqlite3 DBAPI2 connection. Other DBAPI2 objects are not tested. Please consider using SQLAlchemy.\n",
      "  return pd.read_sql(query, conn)\n"
     ]
    }
   ],
   "source": [
    "import os\n",
    "import psycopg2\n",
    "import pandas as pd\n",
    "\n",
    "DB_CONFIG = {\n",
    "    \"user\": os.getenv(\"PG_USER\", \"postgres\"),\n",
    "    \"password\": os.getenv(\"PG_PASSWORD\", \"tip_pwd\"),\n",
    "    \"host\": os.getenv(\"PG_HOST\", \"localhost\"),\n",
    "    \"port\": os.getenv(\"PG_PORT\", \"5432\"),\n",
    "    \"database\": os.getenv(\"PG_DB\", \"tip\"),\n",
    "}\n",
    "\n",
    "SCHEMA = \"silver\"\n",
    "\n",
    "def connect_db():\n",
    "    \"\"\"Connect to the PostgreSQL database.\"\"\"\n",
    "    try:\n",
    "        conn = psycopg2.connect(**DB_CONFIG)\n",
    "        print(\"✓ DB connected\")\n",
    "        return conn\n",
    "    except Exception as e:\n",
    "        raise RuntimeError(f\"DB connection failed: {e}\")\n",
    "\n",
    "def read_sql(query):\n",
    "    \"\"\"Execute SQL query and return the result as a DataFrame.\"\"\"\n",
    "    conn = connect_db()\n",
    "    return pd.read_sql(query, conn)\n",
    "\n",
    "# SQL query to retrieve data from the cve_cleaned table\n",
    "query = f\"SELECT * FROM {SCHEMA}.cve_cleaned\"\n",
    "\n",
    "# Read the data into a DataFrame\n",
    "df = read_sql(query)"
   ]
  },
  {
   "cell_type": "code",
   "execution_count": 42,
   "id": "51ddfa4c-da72-48cc-952c-f05522d3ee49",
   "metadata": {},
   "outputs": [
    {
     "data": {
      "text/plain": [
       "(38, 15)"
      ]
     },
     "execution_count": 42,
     "metadata": {},
     "output_type": "execute_result"
    }
   ],
   "source": [
    "df.shape"
   ]
  },
  {
   "cell_type": "code",
   "execution_count": 43,
   "id": "c6f31b02-e0d0-40b0-9da1-6a44752028bb",
   "metadata": {},
   "outputs": [
    {
     "data": {
      "text/plain": [
       "0     CVE-2020-0160\n",
       "1     CVE-2020-0161\n",
       "2     CVE-2020-0162\n",
       "3     CVE-2020-0163\n",
       "4     CVE-2020-0164\n",
       "5     CVE-2020-0165\n",
       "6     CVE-2020-0166\n",
       "7     CVE-2020-0167\n",
       "8    CVE-2020-14093\n",
       "9    CVE-2020-14075\n",
       "Name: cve_id, dtype: object"
      ]
     },
     "execution_count": 43,
     "metadata": {},
     "output_type": "execute_result"
    }
   ],
   "source": [
    "df[\"cve_id\"].head(10)"
   ]
  },
  {
   "cell_type": "code",
   "execution_count": null,
   "id": "2e6f327b-b031-42f3-9029-f9b1934e354a",
   "metadata": {},
   "outputs": [],
   "source": []
  }
 ],
 "metadata": {
  "kernelspec": {
   "display_name": "Python (cenv)",
   "language": "python",
   "name": "cenv"
  },
  "language_info": {
   "codemirror_mode": {
    "name": "ipython",
    "version": 3
   },
   "file_extension": ".py",
   "mimetype": "text/x-python",
   "name": "python",
   "nbconvert_exporter": "python",
   "pygments_lexer": "ipython3",
   "version": "3.11.13"
  }
 },
 "nbformat": 4,
 "nbformat_minor": 5
}
